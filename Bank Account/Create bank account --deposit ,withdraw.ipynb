{
 "cells": [
  {
   "cell_type": "markdown",
   "metadata": {},
   "source": [
    "### 建立一个很简单的功能，存钱取钱，查询等"
   ]
  },
  {
   "cell_type": "code",
   "execution_count": 1,
   "metadata": {},
   "outputs": [],
   "source": [
    "class BankAcount:\n",
    "    \n",
    "    def __init__(self):\n",
    "        self.balance=0  #最初没有钱。新户头\n",
    "        \n",
    "    def deposit(self, amount):\n",
    "        self.balance=self.balance + amount  #用户往里存钱\n",
    "        \n",
    "    def withdraw(self, amount):\n",
    "        if self.balance >=amount:\n",
    "            self.balance =self.balance-amount\n",
    "          \n",
    "        else:\n",
    "            print ('钱不够，想什么呢')\n",
    "            \n",
    "    def balance(self):\n",
    "        print (self.balance)"
   ]
  },
  {
   "cell_type": "code",
   "execution_count": 4,
   "metadata": {},
   "outputs": [
    {
     "data": {
      "text/plain": [
       "500"
      ]
     },
     "execution_count": 4,
     "metadata": {},
     "output_type": "execute_result"
    }
   ],
   "source": [
    "account = BankAcount()  #建立一个instance\n",
    "account.deposit(500)\n",
    "account.balance"
   ]
  },
  {
   "cell_type": "code",
   "execution_count": 6,
   "metadata": {},
   "outputs": [
    {
     "name": "stdout",
     "output_type": "stream",
     "text": [
      "钱不够，想什么呢\n"
     ]
    }
   ],
   "source": [
    "account.withdraw(600)\n"
   ]
  },
  {
   "cell_type": "markdown",
   "metadata": {},
   "source": [
    "### 不用 class的方法"
   ]
  },
  {
   "cell_type": "code",
   "execution_count": 3,
   "metadata": {},
   "outputs": [
    {
     "name": "stdout",
     "output_type": "stream",
     "text": [
      "请输入您的名字：cucu\n",
      "您好，cucu.\n",
      "\n",
      "欢迎来到cucu Bank.\n",
      "请选择您要办理的业务: \n",
      "\n",
      "1.Deposit\n",
      "2.Withdraw\n",
      "3.Balance Inquiry\n",
      "4.退出\n",
      "\n",
      "\n",
      "请选择: 1\n",
      "请输入要存入的额度:7\n",
      "您的存款总数为: 10007.0\n",
      "请问您还有其他业务要办理吗: 是请选yes,否请选no.yes\n",
      "请选择: 2\n",
      "请输入要取出的额度:8\n",
      "您的余额为: 9999.0\n",
      "请问您还有其他业务要办理吗: 是请选yes,否请选no.no\n",
      "交易已完成\n"
     ]
    }
   ],
   "source": [
    "balance = 10000  #最初的资金为0\n",
    "\n",
    "name=input('请输入您的名字：')\n",
    "print('您好，{}.'.format(name))\n",
    "\n",
    "print (\"\"\"\n",
    "欢迎来到cucu Bank.\n",
    "请选择您要办理的业务: \n",
    "\n",
    "1.Deposit\n",
    "2.Withdraw\n",
    "3.Balance Inquiry\n",
    "4.退出\n",
    "\n",
    "\"\"\")\n",
    "\n",
    "while True:\n",
    "    transaction= int(input('请选择: '))\n",
    "\n",
    "    if transaction==1:\n",
    "        amount=float(input('请输入要存入的额度:'))\n",
    "        balance += amount\n",
    "        print ('您的存款总数为:', balance)\n",
    "        \n",
    "        othertran=input('请问您还有其他业务要办理吗: 是请选yes,否请选no.')\n",
    "        if othertran=='yes':\n",
    "            continue\n",
    "        else:\n",
    "            print('交易已完成')\n",
    "            break\n",
    "\n",
    "    elif transaction==2:\n",
    "        amount=float(input('请输入要取出的额度:'))\n",
    "        if balance >=amount:\n",
    "            balance -=amount\n",
    "            print ('您的余额为:', balance)\n",
    "        else:\n",
    "            print('钱不够，想清楚再取')\n",
    "            \n",
    "        othertran=input('请问您还有其他业务要办理吗: 是请选yes,否请选no.')\n",
    "        if othertran=='yes':\n",
    "            continue\n",
    "        else:\n",
    "            print('交易已完成')\n",
    "            break\n",
    "\n",
    "    elif transaction==4:\n",
    "        print('退出')\n",
    "        print('谢谢您的使用。再见。')\n",
    "        break\n",
    "        \n",
    "    else:\n",
    "        print('交易已完成')\n"
   ]
  }
 ],
 "metadata": {
  "kernelspec": {
   "display_name": "Python 3",
   "language": "python",
   "name": "python3"
  },
  "language_info": {
   "codemirror_mode": {
    "name": "ipython",
    "version": 3
   },
   "file_extension": ".py",
   "mimetype": "text/x-python",
   "name": "python",
   "nbconvert_exporter": "python",
   "pygments_lexer": "ipython3",
   "version": "3.8.1"
  }
 },
 "nbformat": 4,
 "nbformat_minor": 4
}
